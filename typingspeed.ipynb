{
    "cells": [
        {
            "cell_type": "code",
            "execution_count": null,
            "source": [
                "  \r\n",
                "import time\r\n",
                "String = 'this is a task 1 of the intern academy which calculate your typing speed'\r\n",
                "wordcount = len(String.split())\r\n",
                "print(String)\r\n",
                "while True:\r\n",
                "    t0 = time.time()\r\n",
                "    inputtext = str(input('Enter the Sentence:'))\r\n",
                "    t1 = time.time()\r\n",
                "    accuracy = len(set(inputtext.split()) & set(String.split()))\r\n",
                "    accuracy = accuracy/wordcount\r\n",
                "    timetaken = t1-t0\r\n",
                "    wpm = wordcount/timetaken\r\n",
                "    print(\"WPM\", wpm, \"Accuracy\", accuracy, \"Timetaken\", timetaken)"
            ],
            "outputs": [],
            "metadata": {}
        }
    ],
    "metadata": {
        "orig_nbformat": 4,
        "language_info": {
            "name": "python",
            "version": "3.9.2",
            "mimetype": "text/x-python",
            "codemirror_mode": {
                "name": "ipython",
                "version": 3
            },
            "pygments_lexer": "ipython3",
            "nbconvert_exporter": "python",
            "file_extension": ".py"
        },
        "kernelspec": {
            "name": "python3",
            "display_name": "Python 3.9.2 64-bit"
        },
        "interpreter": {
            "hash": "ff20fcf04520b619d91653849dc71ed5d9106ef33646c5a66a9c2a24af4d12b9"
        }
    },
    "nbformat": 4,
    "nbformat_minor": 2
}